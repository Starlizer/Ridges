{
 "cells": [
  {
   "cell_type": "code",
   "execution_count": 147,
   "id": "animal-check",
   "metadata": {},
   "outputs": [],
   "source": [
    "import numpy as np\n",
    "from scipy.integrate import odeint\n",
    "import matplotlib.pyplot as plt"
   ]
  },
  {
   "cell_type": "code",
   "execution_count": 148,
   "id": "arranged-webmaster",
   "metadata": {},
   "outputs": [],
   "source": [
    "from scipy.interpolate import CubicSpline\n",
    "from scipy.interpolate import pade"
   ]
  },
  {
   "cell_type": "code",
   "execution_count": 149,
   "id": "martial-taiwan",
   "metadata": {},
   "outputs": [],
   "source": [
    "df_p0=np.loadtxt(\"./p0T.csv\",delimiter=\",\")\n",
    "df_e0=np.loadtxt(\"./e0T.csv\",delimiter=\",\")\n",
    "df_p2=np.loadtxt(\"./P2T.csv\",delimiter=\",\")\n",
    "df_p4=np.loadtxt(\"./P4T.csv\",delimiter=\",\")\n",
    "df_p6=np.loadtxt(\"./P6T.csv\",delimiter=\",\")\n",
    "\n",
    "pol_p0e0 = np.poly1d(np.polyfit(df_p0[:,0]/197, df_p0[:,1], 8))\n",
    "pol_p0 = np.poly1d(np.polyfit(df_p0[:,0]/197, df_p0[:,1], 8))\n",
    "\n",
    "pol_e0 = np.poly1d(np.polyfit(df_e0[:,0]/197, df_e0[:,1], 8))\n",
    "\n",
    "pol_p2 = np.poly1d(np.polyfit(df_p2[:,0]/197, df_p2[:,1],8))\n",
    "\n",
    "pol_p4 = np.poly1d(np.polyfit(df_p4[:,0]/197, df_p4[:,1], 8))\n",
    "\n",
    "pol_p6 = np.poly1d(np.polyfit(df_p6[:,0]/197, df_p6[:,1], 8))\n",
    "pol_p6 = CubicSpline(df_p6[:,0]/197, df_p6[:,1])\n",
    "#pol_p4 = CubicSpline(df_p4[:,0]/197, df_p4[:,1])\n",
    "#pol_p2 = CubicSpline(df_p2[:,0]/197, df_p2[:,1])\n",
    "#pol_p0 = CubicSpline(df_p0[:,0]/197, df_p0[:,1])\n",
    "#pol_e0 = CubicSpline(df_e0[:,0]/197, df_e0[:,1])"
   ]
  },
  {
   "cell_type": "code",
   "execution_count": 150,
   "id": "serial-preview",
   "metadata": {
    "scrolled": true
   },
   "outputs": [
    {
     "data": {
      "image/png": "[encoded data removed]",
      "text/plain": [
       "<Figure size 432x288 with 1 Axes>"
      ]
     },
     "metadata": {
      "needs_background": "light"
     },
     "output_type": "display_data"
    }
   ],
   "source": [
    "x=np.linspace(120,280,1000)/197\n",
    "plt.xlim(120/197,250/197)\n",
    "plt.plot(df_p0[:,0]/197,df_p0[:,1])\n",
    "plt.plot(x,pol_p0(x))\n",
    "\n",
    "\n",
    "plt.show()\n"
   ]
  },
  {
   "cell_type": "code",
   "execution_count": 151,
   "id": "46fbe8b3",
   "metadata": {},
   "outputs": [
    {
     "data": {
      "image/png": "[encoded data removed]",
      "text/plain": [
       "<Figure size 432x288 with 1 Axes>"
      ]
     },
     "metadata": {
      "needs_background": "light"
     },
     "output_type": "display_data"
    }
   ],
   "source": [
    "x=np.linspace(120,280,1000)/197\n",
    "plt.xlim(120/197,250/197)\n",
    "plt.plot(df_e0[:,0]/197,df_e0[:,1])\n",
    "plt.plot(x,pol_e0(x))\n",
    "\n",
    "\n",
    "plt.show()"
   ]
  },
  {
   "cell_type": "code",
   "execution_count": 152,
   "id": "bed8aee2",
   "metadata": {},
   "outputs": [],
   "source": [
    "pol_p0e0 = np.poly1d(np.polyfit(pol_e0(x),pol_p0(x), 8))"
   ]
  },
  {
   "cell_type": "code",
   "execution_count": 153,
   "id": "5af37b48",
   "metadata": {},
   "outputs": [
    {
     "data": {
      "image/png": "[encoded data removed]",
      "text/plain": [
       "<Figure size 432x288 with 1 Axes>"
      ]
     },
     "metadata": {
      "needs_background": "light"
     },
     "output_type": "display_data"
    }
   ],
   "source": [
    "x=np.linspace(120,280,1000)/197\n",
    "#plt.xlim(120/197,250/197)\n",
    "plt.plot(pol_e0(x),pol_p0(x))\n",
    "\n",
    "plt.plot(pol_e0(x),pol_p0e0(pol_e0(x)))\n",
    "plt.show()"
   ]
  },
  {
   "cell_type": "code",
   "execution_count": 154,
   "id": "disabled-nashville",
   "metadata": {},
   "outputs": [
    {
     "data": {
      "text/plain": [
       "array([-1.46424365e-06,  7.50899867e-05, -1.61370945e-03,  1.88800215e-02,\n",
       "       -1.30735360e-01,  5.47044741e-01, -1.34701189e+00,  1.90065394e+00,\n",
       "       -8.21246399e-01])"
      ]
     },
     "execution_count": 154,
     "metadata": {},
     "output_type": "execute_result"
    }
   ],
   "source": [
    "np.polyfit(pol_e0(x),pol_p0(x), 8)\n"
   ]
  },
  {
   "cell_type": "code",
   "execution_count": 155,
   "id": "framed-fault",
   "metadata": {},
   "outputs": [],
   "source": [
    "#Lattice EoS\n",
    "def p_0(T):\n",
    "    return pol_p0(T)\n",
    "\n",
    "def p(T):\n",
    "    return T**4*(p_0(T))\n",
    "\n",
    "def nB(T):\n",
    "    return 0\n",
    "\n",
    "def e(T):\n",
    "    temp1=T**4*pol_e0(T)\n",
    "    return temp1\n",
    "def dT_p(T):\n",
    "    dT=1e-5\n",
    "    return (p(T+dT)-p(T-dT))/(2*dT)\n",
    "def dT_n(T):\n",
    "    dT=1e-5\n",
    "    return (nB(T+dT)-nB(T-dT))/(2*dT)\n",
    "def dT_e(T):\n",
    "    dT=1e-5\n",
    "    return (e(T+dT)-e(T-dT))/(2*dT)\n",
    "def cs2(T):\n",
    "    return dT_p(T)/dT_e(T)\n",
    "def S(T):\n",
    "    return (e(T)+p(T))/T\n",
    "def EtaS(T):\n",
    "    eta0=2.\n",
    "    return eta0*T/(4*np.pi*(e(T)+p(T)))\n",
    "def ChiPP(T):\n",
    "    return T*(e(T)+p(T))"
   ]
  },
  {
   "cell_type": "code",
   "execution_count": 156,
   "id": "serial-pension",
   "metadata": {},
   "outputs": [
    {
     "name": "stdout",
     "output_type": "stream",
     "text": [
      "e0: 3.0707881560217487\n",
      "p0: 0.5985901505394259\n",
      "s0: 16.678992302550792\n",
      "cs2: 0.2324660486503032\n"
     ]
    }
   ],
   "source": [
    "#times\n",
    "dt=0.003125\n",
    "t0=1\n",
    "tfin=11\n",
    "\n",
    "#Initial density\n",
    "rho0=0\n",
    "#initial temperature\n",
    "T0=220/197\n",
    "#derived\n",
    "\n",
    "#Initial chemical potential\n",
    "\n",
    "from scipy.optimize import fsolve\n",
    "\n",
    "\n",
    "e0=e(T0)\n",
    "p0=p(T0)\n",
    "s0=(e0+p0)/T0\n",
    "cs20=cs2(T0)\n",
    "print(\"e0: {}\".format(e0*(.197)))\n",
    "\n",
    "print(\"p0: {}\".format(p0*(.197)))\n",
    "\n",
    "print(\"s0: {}\".format(s0))\n",
    "\n",
    "print(\"cs2: {}\".format(cs20))"
   ]
  },
  {
   "cell_type": "code",
   "execution_count": 157,
   "id": "expressed-security",
   "metadata": {},
   "outputs": [
    {
     "data": {
      "text/plain": [
       "3.038528682941248"
      ]
     },
     "execution_count": 157,
     "metadata": {},
     "output_type": "execute_result"
    }
   ],
   "source": [
    "p0"
   ]
  },
  {
   "cell_type": "code",
   "execution_count": 158,
   "id": "retained-oklahoma",
   "metadata": {},
   "outputs": [],
   "source": [
    "def f_ode(x,tau):\n",
    "    A=-((e(x)+p(x)-4./(3.*tau)*EtaS(x))/tau)*1/dT_e(x)\n",
    "    return A "
   ]
  },
  {
   "cell_type": "code",
   "execution_count": 159,
   "id": "studied-agent",
   "metadata": {},
   "outputs": [
    {
     "data": {
      "text/plain": [
       "-0.2692389874144621"
      ]
     },
     "execution_count": 159,
     "metadata": {},
     "output_type": "execute_result"
    }
   ],
   "source": [
    "f_ode(220/197,1.)"
   ]
  },
  {
   "cell_type": "code",
   "execution_count": 160,
   "id": "comic-bermuda",
   "metadata": {},
   "outputs": [
    {
     "name": "stdout",
     "output_type": "stream",
     "text": [
      "[150.25122431]\n"
     ]
    },
    {
     "data": {
      "text/plain": [
       "[<matplotlib.lines.Line2D at 0x1210a7250>]"
      ]
     },
     "execution_count": 160,
     "metadata": {},
     "output_type": "execute_result"
    },
    {
     "data": {
      "image/png": "[encoded data removed]",
      "text/plain": [
       "<Figure size 432x288 with 1 Axes>"
      ]
     },
     "metadata": {
      "needs_background": "light"
     },
     "output_type": "display_data"
    }
   ],
   "source": [
    "from scipy.integrate import odeint\n",
    "\n",
    "ts=np.linspace(1.0,11,100000)\n",
    "\n",
    "sol = odeint(f_ode, 238/197, ts)\n",
    "print(sol[-2]*197)\n",
    "plt.plot(ts,sol*197)\n"
   ]
  },
  {
   "cell_type": "code",
   "execution_count": 161,
   "id": "august-impact",
   "metadata": {},
   "outputs": [
    {
     "data": {
      "text/plain": [
       "(100000,)"
      ]
     },
     "execution_count": 161,
     "metadata": {},
     "output_type": "execute_result"
    }
   ],
   "source": [
    "sol[:,0].shape"
   ]
  },
  {
   "cell_type": "code",
   "execution_count": 162,
   "id": "sapphire-unknown",
   "metadata": {},
   "outputs": [],
   "source": [
    "np.savetxt(\"T-n.dat\",np.stack((ts[::200],sol[:,0][::200]*.197)))\n",
    "np.savetxt(\"p-n.dat\",np.stack((ts[::200],p(sol[:,0][::200])*.197)))\n",
    "np.savetxt(\"e-n.dat\",np.stack((ts[::200],e(sol[:,0][::200])*.197)))\n",
    "np.savetxt(\"s-n.dat\",np.stack((ts[::200],S(sol[:,0][::200])*.197)))\n",
    "np.savetxt(\"cs2-n.dat\",np.stack((ts[::200],cs2(sol[:,0][::200]))))\n",
    "np.savetxt(\"chiPP-n.dat\",np.stack((ts[::200],ChiPP(sol[:,0][::200])*.197*.197)))"
   ]
  },
  {
   "cell_type": "code",
   "execution_count": 163,
   "id": "limiting-effort",
   "metadata": {},
   "outputs": [],
   "source": [
    "from scipy.interpolate import CubicSpline\n",
    "from scipy.interpolate import pade\n",
    "ts=np.loadtxt(\"T-n.dat\")[0,:]\n",
    "e0=np.loadtxt(\"e-n.dat\")[1,:]\n",
    "p0=np.loadtxt(\"p-n.dat\")[1,:]\n",
    "T0=np.loadtxt(\"T-n.dat\")[1,:]\n",
    "s0=np.loadtxt(\"s-n.dat\")[1,:]\n",
    "cS20=np.loadtxt(\"cs2-n.dat\")[1,:]\n",
    "ChiPPw=np.loadtxt(\"ChiPP-n.dat\")[1,:]\n",
    "pol_p0 = CubicSpline(ts, p0)\n",
    "pol_e0 = CubicSpline(ts, e0)\n",
    "pol_s0 = CubicSpline(ts, s0)\n",
    "pol_T0 = CubicSpline(ts, T0)\n",
    "pol_cS20 = CubicSpline(ts, cS20)\n",
    "pol_ChiPP = CubicSpline(ts, ChiPPw)\n",
    "def T(t):\n",
    "    return pol_T0(t)\n",
    "\n",
    "def p(t):\n",
    "    return pol_p0(t)\n",
    "def e(t):\n",
    "    return pol_e0(t)\n",
    "def dpde(t):\n",
    "    return pol_cS20(t)\n",
    "def s(t):\n",
    "    return pol_s0(t)\n",
    "def etas(t):\n",
    "    return 2*(pol_s0(t))/(4*np.pi)\n",
    "def Mz(t):\n",
    "    return e(t)+p(t)-4./3.*etas(t)/t\n",
    "def dMz(t):\n",
    "    dt=1e-4\n",
    "    return (Mz(t+dt)-Mz(t-dt))/(2*dt)"
   ]
  },
  {
   "cell_type": "code",
   "execution_count": 164,
   "id": "indoor-buffalo",
   "metadata": {},
   "outputs": [
    {
     "data": {
      "image/png": "[encoded data removed]",
      "text/plain": [
       "<Figure size 432x288 with 1 Axes>"
      ]
     },
     "metadata": {
      "needs_background": "light"
     },
     "output_type": "display_data"
    },
    {
     "data": {
      "image/png": "[encoded data removed]",
      "text/plain": [
       "<Figure size 432x288 with 1 Axes>"
      ]
     },
     "metadata": {
      "needs_background": "light"
     },
     "output_type": "display_data"
    },
    {
     "data": {
      "image/png": "[encoded data removed]",
      "text/plain": [
       "<Figure size 432x288 with 1 Axes>"
      ]
     },
     "metadata": {
      "needs_background": "light"
     },
     "output_type": "display_data"
    },
    {
     "data": {
      "image/png": "[encoded data removed]",
      "text/plain": [
       "<Figure size 432x288 with 1 Axes>"
      ]
     },
     "metadata": {
      "needs_background": "light"
     },
     "output_type": "display_data"
    },
    {
     "data": {
      "image/png": "[encoded data removed]",
      "text/plain": [
       "<Figure size 432x288 with 1 Axes>"
      ]
     },
     "metadata": {
      "needs_background": "light"
     },
     "output_type": "display_data"
    },
    {
     "data": {
      "image/png": "[encoded data removed]",
      "text/plain": [
       "<Figure size 432x288 with 1 Axes>"
      ]
     },
     "metadata": {
      "needs_background": "light"
     },
     "output_type": "display_data"
    }
   ],
   "source": [
    "import numpy as np\n",
    "t1=np.linspace(1,11,100)\n",
    "name=\"0n0\"\n",
    "pt=np.polyfit(t1,Mz(t1),10)\n",
    "plt.plot(t1,Mz(t1))\n",
    "plt.plot(t1,np.poly1d(pt)(t1))\n",
    "plt.show()\n",
    "np.savetxt(\"{}-Mst.dat\".format(name),pt)\n",
    "\n",
    "t1=np.linspace(1,11,100)\n",
    "pt=np.polyfit(t1,dMz(t1),10)\n",
    "plt.plot(t1,dMz(t1))\n",
    "plt.plot(t1,np.poly1d(pt)(t1))\n",
    "plt.show()\n",
    "np.savetxt(\"{}-dMst.dat\".format(name),pt)\n",
    "\n",
    "t1=np.linspace(1,11,100)\n",
    "pt=np.polyfit(t1,etas(t1),10)\n",
    "plt.plot(t1,etas(t1))\n",
    "plt.plot(t1,np.poly1d(pt)(t1))\n",
    "plt.show()\n",
    "np.savetxt(\"{}-etas.dat\".format(name),pt)\n",
    "\n",
    "t1=np.linspace(1,11,100)\n",
    "pt=np.polyfit(t1,e(t1),10)\n",
    "plt.plot(t1,e(t1))\n",
    "plt.plot(t1,np.poly1d(pt)(t1))\n",
    "plt.show()\n",
    "np.savetxt(\"{}-e.dat\".format(name),pt)\n",
    "\n",
    "t1=np.linspace(1,11,100)\n",
    "pt=np.polyfit(t1,p(t1),10)\n",
    "plt.plot(t1,p(t1))\n",
    "plt.plot(t1,np.poly1d(pt)(t1))\n",
    "plt.show()\n",
    "np.savetxt(\"{}-p.dat\".format(name),pt)\n",
    "\n",
    "t1=np.linspace(1,11,100)\n",
    "pt=np.polyfit(t1,dpde(t1),10)\n",
    "plt.plot(t1,dpde(t1))\n",
    "plt.plot(t1,np.poly1d(pt)(t1))\n",
    "plt.show()\n",
    "np.savetxt(\"{}-dpde.dat\".format(name),pt)\n",
    "\n"
   ]
  },
  {
   "cell_type": "code",
   "execution_count": 242,
   "id": "blocked-works",
   "metadata": {},
   "outputs": [
    {
     "name": "stdout",
     "output_type": "stream",
     "text": [
      "(500, 501)\n"
     ]
    },
    {
     "data": {
      "text/plain": [
       "array([0.99998182, 0.99998221, 0.99998267, 0.99998295, 0.99998323,\n",
       "       0.99998358, 0.99998386, 0.9999842 , 0.99998449, 0.99998468,\n",
       "       0.99998512, 0.99998529, 0.99998561, 0.99998581, 0.99998614,\n",
       "       0.99998624, 0.99998663, 0.99998679, 0.99998701, 0.99998718,\n",
       "       0.99998739, 0.99998763, 0.99998769, 0.99998786, 0.99998824,\n",
       "       0.99998829, 0.99998859, 0.99998873, 0.99998875, 0.99998888,\n",
       "       0.99998913, 0.99998935, 0.99998946, 0.99998959, 0.99998964,\n",
       "       0.99998972, 0.99998999, 0.99999009, 0.9999901 , 0.99999028,\n",
       "       0.99999036, 0.99999057, 0.99999055, 0.99999088, 0.99999091,\n",
       "       0.99999092, 0.99999104, 0.99999112, 0.9999913 , 0.9999913 ,\n",
       "       0.99999142, 0.99999157, 0.99999158, 0.99999169, 0.9999918 ,\n",
       "       0.99999197, 0.99999194, 0.99999205, 0.99999222, 0.99999229,\n",
       "       0.99999234, 0.99999242, 0.99999241, 0.99999254, 0.99999256,\n",
       "       0.99999275, 0.99999274, 0.99999276, 0.99999282, 0.99999284,\n",
       "       0.99999299, 0.99999301, 0.99999323, 0.99999311, 0.99999324,\n",
       "       0.99999325, 0.99999336, 0.99999338, 0.99999355, 0.99999351,\n",
       "       0.99999356, 0.99999359, 0.99999366, 0.99999376, 0.99999373,\n",
       "       0.99999371, 0.99999376, 0.99999388, 0.99999386, 0.99999402,\n",
       "       0.99999405, 0.99999404, 0.99999412, 0.99999432, 0.99999416,\n",
       "       0.99999417, 0.99999448, 0.99999458, 0.99999443, 0.99999428,\n",
       "       0.99999439, 0.99999438, 0.99999431, 0.99999455, 0.99999417,\n",
       "       0.99999443, 0.99999434, 0.99999445, 0.99999466, 0.99999459,\n",
       "       0.99999468, 0.99999474, 0.99999485, 0.9999949 , 0.99999492,\n",
       "       0.99999466, 0.99999433, 0.99999524, 0.99999491, 0.99999457,\n",
       "       0.99999526, 0.99999503, 0.99999535, 0.99999485, 0.99999545,\n",
       "       0.99999549, 0.99999557, 0.99999573, 0.99999502, 0.99999507,\n",
       "       0.99999535, 0.99999596, 0.99999564, 0.99999529, 0.99999555,\n",
       "       0.99999577, 0.99999614, 0.99999536, 0.99999542, 0.99999553,\n",
       "       0.99999491, 0.99999604, 0.99999584, 0.99999607, 0.99999582,\n",
       "       0.99999553, 0.99999549, 0.99999579, 0.99999549, 0.99999589,\n",
       "       0.99999622, 0.999996  , 0.99999608, 0.99999549, 0.99999508,\n",
       "       0.99999599, 0.99999569, 0.99999557, 0.99999575, 0.99999571,\n",
       "       0.99999597, 0.99999563, 0.99999601, 0.99999591, 0.99999585,\n",
       "       0.99999587, 0.99999581, 0.99999583, 0.99999607, 0.9999959 ,\n",
       "       0.99999612, 0.99999615, 0.99999657, 0.99999625, 0.99999583,\n",
       "       0.99999573, 0.99999583, 0.99999601, 0.99999599, 0.99999579,\n",
       "       0.99999631, 0.9999958 , 0.99999643, 0.99999563, 0.99999642,\n",
       "       0.99999627, 0.99999671, 0.99999653, 0.99999603, 0.99999569,\n",
       "       0.99999616, 0.99999655, 0.99999612, 0.99999599, 0.99999686,\n",
       "       0.999996  , 0.99999622, 0.99999689, 0.9999963 , 0.9999963 ,\n",
       "       0.9999971 , 0.99999661, 0.99999642, 0.99999666, 0.99999639,\n",
       "       0.99999639, 0.99999656, 0.9999969 , 0.99999648, 0.99999635,\n",
       "       0.99999641, 0.99999641, 0.99999649, 0.99999658, 0.99999591,\n",
       "       0.99999688, 0.99999631, 0.99999651, 0.99999606, 0.99999604,\n",
       "       0.99999624, 0.99999633, 0.99999655, 0.99999676, 0.99999627,\n",
       "       0.99999678, 0.99999686, 0.99999701, 0.99999654, 0.9999968 ,\n",
       "       0.9999967 , 0.99999699, 0.99999624, 0.99999669, 0.999997  ,\n",
       "       0.99999679, 0.99999663, 0.99999613, 0.99999658, 0.99999653,\n",
       "       0.99999616, 0.99999679, 0.99999642, 0.99999672, 0.99999663,\n",
       "       0.99999651, 0.99999684, 0.99999662, 0.99999696, 0.99999695,\n",
       "       0.99999875, 0.99999855, 0.99999828, 0.99999951, 0.9999988 ,\n",
       "       0.99999837, 0.99999835, 0.99999828, 0.9999986 , 0.99999876,\n",
       "       0.99999885, 0.99999866, 0.99999849, 0.99999841, 0.99999853,\n",
       "       0.99999855, 0.99999886, 0.99999866, 0.99999869, 0.99999851,\n",
       "       0.99999865, 0.99999865, 0.99999804, 0.99999858, 0.99999897,\n",
       "       0.99999879, 0.9999984 , 0.99999826, 0.99999851, 0.99999836,\n",
       "       0.9999985 , 0.9999987 , 0.9999992 , 0.999999  , 0.9999981 ,\n",
       "       0.99999854, 0.99999871, 0.99999872, 0.99999851, 0.99999853,\n",
       "       0.99999899, 0.99999824, 0.99999897, 0.99999857, 0.99999857,\n",
       "       0.99999858, 0.99999847, 0.99999845, 0.99999844, 0.99999818,\n",
       "       0.999999  , 0.99999834, 0.9999985 , 0.99999844, 0.99999817,\n",
       "       0.99999942, 0.99999863, 0.99999894, 0.99999877, 0.99999874,\n",
       "       0.99999845, 0.99999889, 0.99999826, 0.99999875, 0.99999915,\n",
       "       0.99999838, 0.99999828, 0.99999874, 0.99999843, 0.99999873,\n",
       "       0.99999909, 0.99999883, 0.99999809, 0.99999834, 0.99999799,\n",
       "       0.99999851, 0.99999815, 0.9999987 , 0.99999884, 0.99999831,\n",
       "       0.99999839, 0.99999775, 0.9999986 , 0.99999863, 0.99999876,\n",
       "       0.99999848, 0.99999897, 0.99999849, 0.99999809, 0.99999881,\n",
       "       0.99999804, 0.99999851, 0.99999869, 0.99999863, 0.99999824,\n",
       "       0.99999858, 0.99999844, 0.99999914, 0.99999847, 0.9999987 ,\n",
       "       0.99999844, 0.99999862, 0.99999861, 0.99999875, 0.9999987 ,\n",
       "       0.99999801, 0.99999867, 0.99999819, 0.99999851, 0.99999835,\n",
       "       0.99999815, 0.99999867, 0.99999849, 0.99999851, 0.99999834,\n",
       "       0.99999885, 0.99999877, 0.99999845, 0.99999858, 0.99999835,\n",
       "       0.99999857, 0.99999872, 0.99999918, 0.99999843, 0.99999855,\n",
       "       0.99999854, 0.99999864, 0.99999879, 0.99999899, 0.99999864,\n",
       "       0.9999988 , 0.99999843, 0.99999875, 0.99999849, 0.99999894,\n",
       "       0.99999847, 0.99999866, 0.99999811, 0.99999836, 0.9999991 ,\n",
       "       0.99999889, 0.99999879, 0.99999836, 0.99999838, 0.99999886,\n",
       "       0.99999864, 0.99999886, 0.99999868, 0.99999892, 0.99999836,\n",
       "       0.99999856, 0.99999835, 0.99999844, 0.99999833, 0.99999839,\n",
       "       0.99999881, 0.99999844, 0.99999858, 0.99999827, 0.99999863,\n",
       "       0.99999867, 0.99999827, 0.99999885, 0.99999842, 0.99999828,\n",
       "       0.99999886, 0.99999868, 0.99999812, 0.99999904, 0.99999842,\n",
       "       0.99999809, 0.99999896, 0.99999811, 0.99999845, 0.99999837,\n",
       "       0.99999875, 0.99999858, 0.99999852, 0.99999827, 0.99999874,\n",
       "       0.99999808, 0.99999826, 0.99999849, 0.99999858, 0.99999867,\n",
       "       0.99999853, 0.99999875, 0.99999846, 0.99999847, 0.99999838,\n",
       "       0.99999837, 0.99999818, 0.99999842, 0.99999845, 0.9999987 ,\n",
       "       0.99999836, 0.99999798, 0.99999835, 0.99999799, 0.99999841,\n",
       "       0.99999846, 0.99999808, 0.99999804, 0.99999875, 0.99999842,\n",
       "       0.99999808, 0.99999851, 0.99999832, 0.99999812, 0.9999985 ,\n",
       "       0.99999837, 0.99999856, 0.99999835, 0.99999841, 0.99999829,\n",
       "       0.99999853, 0.99999872, 0.99999831, 0.99999818, 0.99999853,\n",
       "       0.99999834, 0.99999849, 0.99999799, 0.99999768, 0.99999862,\n",
       "       0.99999796, 0.9999983 , 0.99999807, 0.99999844, 0.999998  ,\n",
       "       0.99999829, 0.9999982 , 0.99999855, 0.99999809, 0.99999851,\n",
       "       0.99999815, 0.99999839, 0.9999982 , 0.99999841, 0.99999816,\n",
       "       0.9999985 , 0.99999767, 0.99999835, 0.99999799, 0.99999802,\n",
       "       0.99999813, 0.99999848, 0.9999981 , 0.99999818, 0.99999969])"
      ]
     },
     "execution_count": 242,
     "metadata": {},
     "output_type": "execute_result"
    }
   ],
   "source": [
    "df=np.loadtxt(\"Green-Ux-Ux.dat\")\n",
    "print(df.shape)\n",
    "np.sum(df,axis=1)*11\n"
   ]
  },
  {
   "cell_type": "code",
   "execution_count": 243,
   "id": "abroad-turkey",
   "metadata": {},
   "outputs": [
    {
     "data": {
      "text/plain": [
       "[<matplotlib.lines.Line2D at 0x1224ed880>]"
      ]
     },
     "execution_count": 243,
     "metadata": {},
     "output_type": "execute_result"
    },
    {
     "data": {
      "image/png": "[encoded data removed]",
      "text/plain": [
       "<Figure size 432x288 with 1 Axes>"
      ]
     },
     "metadata": {
      "needs_background": "light"
     },
     "output_type": "display_data"
    }
   ],
   "source": [
    "x=np.linspace(-5,5,501)\n",
    "plt.plot(x,df[0,:])\n",
    "plt.plot(x,df[-1,:])"
   ]
  },
  {
   "cell_type": "code",
   "execution_count": 251,
   "id": "opposite-flood",
   "metadata": {},
   "outputs": [
    {
     "name": "stderr",
     "output_type": "stream",
     "text": [
      "No handles with labels found to put in legend.\n"
     ]
    },
    {
     "name": "stdout",
     "output_type": "stream",
     "text": [
      "Ux-Ux: -0.003187434747815132 and -0.006362230442775531\n",
      "Ux-Ux: -0.006374869495630264 and 0.004324309095042003\n"
     ]
    },
    {
     "data": {
      "image/png": "[encoded data removed]",
      "text/plain": [
       "<Figure size 432x288 with 1 Axes>"
      ]
     },
     "metadata": {
      "needs_background": "light"
     },
     "output_type": "display_data"
    }
   ],
   "source": [
    "times=np.linspace(1,11,499)\n",
    "x123=np.linspace(-5,5,Neta)\n",
    "Neta=501\n",
    "for i1,l1 in enumerate(['Ux']):\n",
    "    for i2,k1 in enumerate(['Ux']):\n",
    "        full_corr=np.zeros(Neta,dtype=np.float32)\n",
    "        initial_condition=np.zeros(Neta,dtype=np.float32)\n",
    "        dfl=np.loadtxt(\"Green-Ux-Ux.dat\")\n",
    "        dfk=np.loadtxt(\"Green-Ux-Ux.dat\")\n",
    "        dt=1e-5\n",
    "        \n",
    "        Gs_1=np.zeros(Neta,dtype=np.float32)\n",
    "        Gs=np.zeros(Neta,dtype=np.float32)\n",
    "        j=lambda x:(pol_ChiPP(x+dt)-pol_ChiPP(x-dt))/(2*dt)+1./x*pol_ChiPP(x)\n",
    "        jl=lambda x:pol_ChiPP(x)\n",
    "        jk=lambda x:pol_ChiPP(x)\n",
    "        for m in np.arange(499): \n",
    "            for n in np.arange(0,Neta):\n",
    "                Gs[n]+=50*times[m]*j(times[m])*np.sum(dfl[m]*np.roll(dfk[m],shift=n))*10/499\n",
    "                \n",
    "        for n in np.arange(0,Neta):\n",
    "            initial_condition[n]+=50*times[0]*pol_ChiPP(times[0])*np.sum(dfl[0]*np.roll(dfk[0],shift=n))\n",
    "        full_corr+=(Gs)#+initial_condition)\n",
    "        print(\"{}-{}: {} and {}\".format('Ux','Ux',np.sum(Gs/2/50),np.sum(j(times)*times)/(11**2)*10/500))\n",
    "                \n",
    "        print(\"{}-{}: {} and {}\".format('Ux','Ux',np.sum(full_corr/50),pol_ChiPP(11)/11))\n",
    "        plt.plot(x123,-np.roll(full_corr,Neta//2)*11*11*150/360)\n",
    "        np.savetxt(\"Ux-Ux.dat\".format(k1,l1),full_corr)\n",
    "        np.savetxt(\"Uy-Uy.dat\".format(k1,l1),full_corr)\n",
    "        np.savetxt(\"Ux-Uy.dat\".format(k1,l1),Gs_1)\n",
    "        np.savetxt(\"Uy-Ux.dat\".format(k1,l1),Gs_1)\n",
    "        plt.legend()\n",
    "        plt.xlim(-5,5)\n",
    "        plt.tight_layout()\n",
    "        plt.savefig(\"Correlations-Ux-Ux.pdf\",format='pdf')\n",
    "        plt.show()\n"
   ]
  },
  {
   "cell_type": "code",
   "execution_count": 171,
   "id": "economic-disease",
   "metadata": {},
   "outputs": [
    {
     "name": "stdout",
     "output_type": "stream",
     "text": [
      "0n0-Mst.dat            P4T.csv                bj_flow.h\r\n",
      "0n0-dMst.dat           P6T.csv                chiPP-n.dat\r\n",
      "0n0-dpde.dat           README.md              cs2-n.dat\r\n",
      "0n0-e.dat              T-n.dat                e-n.dat\r\n",
      "0n0-etas.dat           Untitled-Copy1.ipynb   e0T.csv\r\n",
      "0n0-p.dat              Ux-Ux.dat              p-n.dat\r\n",
      "Correlations-Ux-Ux.pdf Ux-Uy.dat              p-of-e.dat\r\n",
      "Green-Ux-Ux.dat        Uy-Ux.dat              p0T.csv\r\n",
      "Hydro-fluks.cpp        Uy-Uy.dat              s-n.dat\r\n",
      "P2T.csv                bj_flow.cpp            \u001b[31mtr.out\u001b[m\u001b[m\r\n"
     ]
    }
   ],
   "source": [
    "!ls"
   ]
  }
 ],
 "metadata": {
  "kernelspec": {
   "display_name": "Python 3",
   "language": "python",
   "name": "python3"
  },
  "language_info": {
   "codemirror_mode": {
    "name": "ipython",
    "version": 3
   },
   "file_extension": ".py",
   "mimetype": "text/x-python",
   "name": "python",
   "nbconvert_exporter": "python",
   "pygments_lexer": "ipython3",
   "version": "3.8.10"
  }
 },
 "nbformat": 4,
 "nbformat_minor": 5
}
